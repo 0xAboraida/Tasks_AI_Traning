{
 "cells": [
  {
   "cell_type": "markdown",
   "metadata": {},
   "source": [
    "### Q31. Write a Python function square(num) that takes a number as input and returns its square."
   ]
  },
  {
   "cell_type": "code",
   "execution_count": 18,
   "metadata": {},
   "outputs": [
    {
     "name": "stdout",
     "output_type": "stream",
     "text": [
      "your input is: 3\n"
     ]
    },
    {
     "data": {
      "text/plain": [
       "9"
      ]
     },
     "execution_count": 18,
     "metadata": {},
     "output_type": "execute_result"
    }
   ],
   "source": [
    "num = int(input(\"enter a number: \"))\n",
    "print(f'your input is: {num}')\n",
    "def square(num):\n",
    "    return pow(num,2)\n",
    "square(num)"
   ]
  },
  {
   "cell_type": "markdown",
   "metadata": {},
   "source": [
    "### Q32. Write a Python function sum_of_digits(number) that takes an integer as input and returns the sum of its digits."
   ]
  },
  {
   "cell_type": "code",
   "execution_count": 6,
   "metadata": {},
   "outputs": [
    {
     "name": "stdout",
     "output_type": "stream",
     "text": [
      "input is: 123\n",
      "\n"
     ]
    },
    {
     "data": {
      "text/plain": [
       "6"
      ]
     },
     "execution_count": 6,
     "metadata": {},
     "output_type": "execute_result"
    }
   ],
   "source": [
    "num = int(input(\"enter a number: \"))\n",
    "print(f'input is: {num}')\n",
    "print(\"\")\n",
    "def sum_of_digits(num):\n",
    "    if num < 0:\n",
    "            return \"Negative numbers are not allowed\"\n",
    "    sum = 0\n",
    "    for i in range(num):\n",
    "        sum += num % 10\n",
    "        num = num // 10\n",
    "    return sum\n",
    "\n",
    "sum_of_digits(num)"
   ]
  },
  {
   "cell_type": "markdown",
   "metadata": {},
   "source": [
    "### Q33. Write a Python function reverse_string(s) that takes a string as input and returns the string in reverse order."
   ]
  },
  {
   "cell_type": "code",
   "execution_count": 7,
   "metadata": {},
   "outputs": [
    {
     "name": "stdout",
     "output_type": "stream",
     "text": [
      "input is: ahmed\n"
     ]
    },
    {
     "data": {
      "text/plain": [
       "'demha'"
      ]
     },
     "execution_count": 7,
     "metadata": {},
     "output_type": "execute_result"
    }
   ],
   "source": [
    "string = input(\"enter a string: \")\n",
    "print(f'input is: {string}')\n",
    "def reverse_string(s):\n",
    "    return s[::-1]\n",
    "\n",
    "reverse_string(string)"
   ]
  },
  {
   "cell_type": "markdown",
   "metadata": {},
   "source": [
    "### Q34. Write a Python function count_vowels(s) that takes a string as input and returns the count of vowels in the string.\n",
    "    a, e, i, o, u"
   ]
  },
  {
   "cell_type": "code",
   "execution_count": 8,
   "metadata": {},
   "outputs": [
    {
     "name": "stdout",
     "output_type": "stream",
     "text": [
      "input is: ahmed\n"
     ]
    },
    {
     "data": {
      "text/plain": [
       "2"
      ]
     },
     "execution_count": 8,
     "metadata": {},
     "output_type": "execute_result"
    }
   ],
   "source": [
    "string = input(\"enter a string:\")\n",
    "print(f'input is: {string}')\n",
    "def count_vowels(s):\n",
    "    count = 0\n",
    "    for i in s:\n",
    "        if i in ('a', 'e', 'i', 'o', 'u'):\n",
    "            count += 1\n",
    "    return count \n",
    "\n",
    "count_vowels(string) "
   ]
  },
  {
   "cell_type": "markdown",
   "metadata": {},
   "source": [
    "### Q35. Write a Python function sort_list(lst) that takes a list of numbers as input and returns a new list with the numbers sorted in ascending order."
   ]
  },
  {
   "cell_type": "code",
   "execution_count": 9,
   "metadata": {},
   "outputs": [],
   "source": [
    "# list_nums_s = input(\"enter a list numbers: \").split()\n",
    "# list_nums = [int(x) for x in list_nums_s]\n",
    "\n",
    "def swap(list_num, check):\n",
    "    return check, list_num\n",
    "\n",
    "\n",
    "def sort_list(list_num):\n",
    "    for i in range(0, len(list_num)-1):    # 0 -> 4\n",
    "\n",
    "        check_num = i\n",
    "\n",
    "        for j in range(i+1, len(list_num)):\n",
    "\n",
    "            if list_num[j] < list_num[check_num]:\n",
    "                check_num = j\n",
    "        \n",
    "\n",
    "        list_num[i], list_num[check_num] = swap(list_num[i],list_num[check_num])\n",
    "        # print(list_num)\n",
    "\n",
    "    return list_num\n",
    "\n"
   ]
  },
  {
   "cell_type": "code",
   "execution_count": 10,
   "metadata": {},
   "outputs": [
    {
     "data": {
      "text/plain": [
       "[]"
      ]
     },
     "execution_count": 10,
     "metadata": {},
     "output_type": "execute_result"
    }
   ],
   "source": [
    "l = []\n",
    "sort_list(l)\n"
   ]
  },
  {
   "cell_type": "code",
   "execution_count": null,
   "metadata": {},
   "outputs": [
    {
     "data": {
      "text/plain": [
       "[5]"
      ]
     },
     "metadata": {},
     "output_type": "display_data"
    }
   ],
   "source": [
    "l = [5]\n",
    "sort_list(l)"
   ]
  },
  {
   "cell_type": "code",
   "execution_count": null,
   "metadata": {},
   "outputs": [
    {
     "data": {
      "text/plain": [
       "[1, 2, 3, 4, 5]"
      ]
     },
     "metadata": {},
     "output_type": "display_data"
    }
   ],
   "source": [
    "l = [1, 2, 3, 4, 5]\n",
    "sort_list(l)"
   ]
  },
  {
   "cell_type": "code",
   "execution_count": null,
   "metadata": {},
   "outputs": [
    {
     "data": {
      "text/plain": [
       "[1, 2, 3, 4, 5]"
      ]
     },
     "metadata": {},
     "output_type": "display_data"
    }
   ],
   "source": [
    "l = [5, 4, 3, 2, 1]\n",
    "sort_list(l)"
   ]
  },
  {
   "cell_type": "code",
   "execution_count": null,
   "metadata": {},
   "outputs": [
    {
     "data": {
      "text/plain": [
       "[1, 1, 2, 3, 3, 4, 5, 5, 5, 6, 9]"
      ]
     },
     "metadata": {},
     "output_type": "display_data"
    }
   ],
   "source": [
    "l = [3, 1, 4, 1, 5, 9, 2, 6, 5, 3, 5]\n",
    "sort_list(l)"
   ]
  },
  {
   "cell_type": "code",
   "execution_count": null,
   "metadata": {},
   "outputs": [
    {
     "data": {
      "text/plain": [
       "[1, 2, 2, 3, 3, 3, 4, 4, 5, 5, 8, 9, 32, 49, 4930]"
      ]
     },
     "metadata": {},
     "output_type": "display_data"
    }
   ],
   "source": [
    "l = [3, 4, 1, 2, 8, 9, 49, 4930 ,3 ,32 ,2 ,3 ,4, 5,5]\n",
    "sort_list(l)"
   ]
  },
  {
   "cell_type": "code",
   "execution_count": null,
   "metadata": {},
   "outputs": [],
   "source": [
    "from numpy import *\n",
    "l = [random.randint(0, 1000) for _ in range(1000)]\n",
    "sort_list(l)"
   ]
  },
  {
   "cell_type": "code",
   "execution_count": null,
   "metadata": {},
   "outputs": [],
   "source": [
    "l = [i for i in range(1000)]\n",
    "sort_list(l)"
   ]
  },
  {
   "cell_type": "code",
   "execution_count": null,
   "metadata": {},
   "outputs": [
    {
     "data": {
      "text/plain": [
       "[9, 9, 9, 9, 9, 9]"
      ]
     },
     "metadata": {},
     "output_type": "display_data"
    }
   ],
   "source": [
    "\n",
    "l = [9,9,9,9,9,9]\n",
    "sort_list(l)"
   ]
  },
  {
   "cell_type": "markdown",
   "metadata": {},
   "source": [
    "### Q36. Write a Python function word_count(sentence) that takes a sentence as input and returns the number of words in the sentence."
   ]
  },
  {
   "cell_type": "code",
   "execution_count": 13,
   "metadata": {},
   "outputs": [
    {
     "data": {
      "text/plain": [
       "7"
      ]
     },
     "execution_count": 13,
     "metadata": {},
     "output_type": "execute_result"
    }
   ],
   "source": [
    "sentence = input(\"enter a sentence: \")\n",
    "print(f'input is: {sentence}')\n",
    "def word_count(sentence):\n",
    "    splited_sent = str(sentence).split()\n",
    "    return len(splited_sent)\n",
    "\n",
    "word_count(sentence)"
   ]
  },
  {
   "cell_type": "code",
   "execution_count": 14,
   "metadata": {},
   "outputs": [
    {
     "name": "stdout",
     "output_type": "stream",
     "text": [
      "input is: ahmed is s s \n"
     ]
    },
    {
     "data": {
      "text/plain": [
       "5"
      ]
     },
     "execution_count": 14,
     "metadata": {},
     "output_type": "execute_result"
    }
   ],
   "source": [
    "sentence = input(\"enter a sentence: \")\n",
    "print(f'input is: {sentence}')\n",
    "def count_w(sentence):\n",
    "    count = 1\n",
    "    for i in sentence:\n",
    "        if i == ' ':\n",
    "            count += 1\n",
    "    return count\n",
    "\n",
    "count_w(sentence)"
   ]
  },
  {
   "cell_type": "markdown",
   "metadata": {},
   "source": [
    "### Q37. Write a Python function remove_elements(lst, n) that takes a list and an index n as input and removes the element at index n from the list."
   ]
  },
  {
   "cell_type": "code",
   "execution_count": 16,
   "metadata": {},
   "outputs": [
    {
     "name": "stdout",
     "output_type": "stream",
     "text": [
      "your input: [1, 2, 3, 4, 4, 5, 6, 409, 30, 3, 2, 2], 7\n"
     ]
    },
    {
     "data": {
      "text/plain": [
       "[1, 2, 3, 4, 4, 5, 6, 30, 3, 2, 2]"
      ]
     },
     "execution_count": 16,
     "metadata": {},
     "output_type": "execute_result"
    }
   ],
   "source": [
    "def remove_element(lst,n):\n",
    "    for i in range(len(lst)):\n",
    "        if i == n:\n",
    "            del lst[i]\n",
    "    return lst\n",
    "\n",
    "l = [1, 2, 3, 4, 4,5 ,6 , 409, 30 ,3 ,2 ,2]\n",
    "idx = 7\n",
    "print(f\"your input: {l}, {idx}\")\n",
    "remove_element(l,idx)"
   ]
  },
  {
   "cell_type": "markdown",
   "metadata": {},
   "source": [
    "### Q38. Write a Python function duplicate_list(lst) that takes a list as input and returns a new list that duplicates the elements of the original list."
   ]
  },
  {
   "cell_type": "code",
   "execution_count": null,
   "metadata": {},
   "outputs": [
    {
     "data": {
      "text/plain": [
       "['1', '2', '2', '3', '3', '4', '4', '5', '5', '6', '61']"
      ]
     },
     "metadata": {},
     "output_type": "display_data"
    }
   ],
   "source": [
    "lst = input(\"enter a list: \")\n",
    "def duplicate_list_sorted(lst):\n",
    "    splited_lst = str(lst*2).split()\n",
    "    new_lst = sorted(splited_lst) \n",
    "    return new_lst\n",
    "\n",
    "duplicate_list_sorted(lst)"
   ]
  },
  {
   "cell_type": "code",
   "execution_count": null,
   "metadata": {},
   "outputs": [
    {
     "data": {
      "text/plain": [
       "'1 2 3 4 5 6 1 2 3 4 5 6 '"
      ]
     },
     "metadata": {},
     "output_type": "display_data"
    }
   ],
   "source": [
    "lst = input(\"enter a list: \")\n",
    "def duplicate_list(lst):\n",
    "    return lst+lst\n",
    "\n",
    "duplicate_list(lst)"
   ]
  },
  {
   "cell_type": "markdown",
   "metadata": {},
   "source": [
    "### Q39. Write a Python function is_divisible(num1, num2) that takes two numbers as input and returns True if the first number is divisible by the second number, and False otherwise."
   ]
  },
  {
   "cell_type": "code",
   "execution_count": null,
   "metadata": {},
   "outputs": [
    {
     "name": "stdout",
     "output_type": "stream",
     "text": [
      "True\n",
      "False\n",
      "True\n",
      "False\n",
      "True\n",
      "False\n",
      "True\n",
      "True\n",
      "False\n",
      "True\n",
      "False\n",
      "True\n",
      "True\n"
     ]
    }
   ],
   "source": [
    "num1, num2 = input(\"enter two numbers: \").split()\n",
    "num1 = int(num1)\n",
    "num2 = int(num2)\n",
    "def is_divisible(num1,num2):\n",
    "    if num2 == 0:\n",
    "        return False\n",
    "    elif num1 % num2 == 0:\n",
    "        return True\n",
    "    else:\n",
    "        return False\n",
    "\n",
    "is_divisible(num1,num2)"
   ]
  },
  {
   "cell_type": "code",
   "execution_count": null,
   "metadata": {},
   "outputs": [
    {
     "data": {
      "text/plain": [
       "True"
      ]
     },
     "metadata": {},
     "output_type": "display_data"
    }
   ],
   "source": [
    "num1, num2 = input(\"enter two numbers: \").split()\n",
    "num1 = int(num1)\n",
    "num2 = int(num2)\n",
    "def is_divisible(num1,num2):\n",
    "    if num2 == 0:\n",
    "        return False\n",
    "    return num1 % num2 == 0\n",
    "\n",
    "is_divisible(num1,num2)"
   ]
  },
  {
   "cell_type": "markdown",
   "metadata": {},
   "source": [
    "### Q40. Write a Python function power(base, exponent) that takes a base and an exponent as input and returns the result of the base raised to the exponent."
   ]
  },
  {
   "cell_type": "code",
   "execution_count": null,
   "metadata": {},
   "outputs": [
    {
     "name": "stdout",
     "output_type": "stream",
     "text": [
      "9\n",
      "8\n",
      "1\n",
      "0\n",
      "10\n",
      "1\n",
      "9\n",
      "-27\n",
      "0.25\n",
      "0.25\n",
      "1\n",
      "15.625\n",
      "15.588457268119896\n"
     ]
    }
   ],
   "source": [
    "def power(base, exponent):\n",
    "    result = base ** exponent\n",
    "    return result\n",
    "\n",
    "print(power(3, 2))     # 9, because 3^2 = 9\n",
    "print(power(2, 3))     # 8, because 2^3 = 8\n",
    "print(power(5, 0))     # 1, because any number raised to the power of 0 is 1\n",
    "print(power(0, 5))     # 0, because 0 raised to any positive power is 0\n",
    "print(power(10, 1))    # 10, because 10^1 = 10\n",
    "print(power(1, 10))    # 1, because 1 raised to any power is 1\n",
    "print(power(-3, 2))    # 9, because (-3)^2 = 9\n",
    "print(power(-3, 3))    # -27, because (-3)^3 = -27\n",
    "print(power(2, -2))    # 0.25, because 2^-2 = 1/(2^2) = 0.25\n",
    "print(power(-2, -2))   # 0.25, because (-2)^-2 = 1/((-2)^2) = 0.25\n",
    "print(power(0, 0))     # 1, by definition, 0^0 is considered 1 in most contexts\n",
    "print(power(2.5, 3))   # 15.625, because 2.5^3 = 15.625\n",
    "print(power(3, 2.5))   # 15.588457268119896, because 3^2.5 ≈ 15.588457268119896"
   ]
  },
  {
   "cell_type": "markdown",
   "metadata": {},
   "source": [
    "### Q41. Write a program which will find all such numbers which are divisible by 7 but are not divisible by 5, between 2000 and 3000 (both included). The numbers obtained should be printed in a comma-separated sequence on a single line.\n"
   ]
  },
  {
   "cell_type": "code",
   "execution_count": null,
   "metadata": {},
   "outputs": [
    {
     "name": "stdout",
     "output_type": "stream",
     "text": [
      "[2002, 2009, 2016, 2023, 2037, 2044, 2051, 2058, 2072, 2079, 2086, 2093, 2107, 2114, 2121, 2128, 2142, 2149, 2156, 2163, 2177, 2184, 2191, 2198, 2212, 2219, 2226, 2233, 2247, 2254, 2261, 2268, 2282, 2289, 2296, 2303, 2317, 2324, 2331, 2338, 2352, 2359, 2366, 2373, 2387, 2394, 2401, 2408, 2422, 2429, 2436, 2443, 2457, 2464, 2471, 2478, 2492, 2499, 2506, 2513, 2527, 2534, 2541, 2548, 2562, 2569, 2576, 2583, 2597, 2604, 2611, 2618, 2632, 2639, 2646, 2653, 2667, 2674, 2681, 2688, 2702, 2709, 2716, 2723, 2737, 2744, 2751, 2758, 2772, 2779, 2786, 2793, 2807, 2814, 2821, 2828, 2842, 2849, 2856, 2863, 2877, 2884, 2891, 2898, 2912, 2919, 2926, 2933, 2947, 2954, 2961, 2968, 2982, 2989, 2996]\n"
     ]
    }
   ],
   "source": [
    "def is_divisible_by7():\n",
    "    l = [i for i in range(2000,3001) if i % 7 == 0 and i % 5 != 0]\n",
    "    return l\n",
    "result = is_divisible_by7()\n",
    "print(result)"
   ]
  },
  {
   "cell_type": "markdown",
   "metadata": {},
   "source": [
    "### 42. Write a program which can compute the factorial of a given numbers. The results should be printed in a comma-separated sequence on a single line.\n",
    "    5 8\n",
    "    Then, the output should be:\n",
    "    120,40320"
   ]
  },
  {
   "cell_type": "code",
   "execution_count": null,
   "metadata": {},
   "outputs": [
    {
     "name": "stdout",
     "output_type": "stream",
     "text": [
      "[120, 720, 6]\n"
     ]
    }
   ],
   "source": [
    "def factorial(num):\n",
    "    sum = 1\n",
    "    for i in range(1, num+1):\n",
    "        sum *= i\n",
    "    return sum\n",
    "\n",
    "def main():\n",
    "    l = input(\"enter a numbers: \").split()  \n",
    "    nums = [int(num) for num in l]\n",
    "    lst_fac = [factorial(num) for num in nums]\n",
    "    print(lst_fac)\n",
    "\n",
    "\n",
    "main()"
   ]
  },
  {
   "cell_type": "code",
   "execution_count": null,
   "metadata": {},
   "outputs": [
    {
     "data": {
      "text/plain": [
       "[1, 2, 6, 24, 120, 720, 5040, 40320, 362880, 3628800]"
      ]
     },
     "metadata": {},
     "output_type": "display_data"
    }
   ],
   "source": [
    "l = input(\"enter a numbers: \").split()  \n",
    "nums = [int(num) for num in l]\n",
    "\n",
    "def factorial(lst):\n",
    "    new_l = []\n",
    "    for j in range(len(lst)):\n",
    "        sum = 1\n",
    "        for i in range(1, lst[j]+1):\n",
    "            sum *= i\n",
    "        new_l.append(sum) \n",
    "    return  new_l\n",
    "factorial(nums)"
   ]
  },
  {
   "cell_type": "markdown",
   "metadata": {},
   "source": [
    "### 43. With a given integral number n, write a program to generate a dictionary that contains (i, i*i) such that is an integral number between 1 and n (both included). and then the program should print the dictionary.\n",
    "    Suppose the following input is supplied to the program:\n",
    "    8\n",
    "    Then, the output should be:\n",
    "    {1: 1, 2: 4, 3: 9, 4: 16, 5: 25, 6: 36, 7: 49, 8: 64}"
   ]
  },
  {
   "cell_type": "code",
   "execution_count": null,
   "metadata": {},
   "outputs": [
    {
     "data": {
      "text/plain": [
       "{1: 1, 2: 4, 3: 9, 4: 16, 5: 25, 6: 36, 7: 49, 8: 64}"
      ]
     },
     "metadata": {},
     "output_type": "display_data"
    }
   ],
   "source": [
    "num = int(input(\"enter a number: \"))\n",
    "def gen_dict(num):\n",
    "    dic = {i:i**2 for i in range(1,num+1)}\n",
    "    return dic\n",
    "gen_dict(num)"
   ]
  },
  {
   "cell_type": "markdown",
   "metadata": {},
   "source": [
    "### 44. Write a program which accepts a sequence of comma-separated numbers from console and generate a list and a tuple which contains every number. Suppose the following input is supplied to the program:\n",
    "    34,67,55,33,12,98\n",
    "    Then, the output should be:\n",
    "    ['34', '67', '55', '33', '12', '98']\n",
    "    ('34', '67', '55', '33', '12', '98')"
   ]
  },
  {
   "cell_type": "code",
   "execution_count": null,
   "metadata": {},
   "outputs": [
    {
     "name": "stdout",
     "output_type": "stream",
     "text": [
      "['34', '67', '55', '33', '12', '98']\n",
      "('34', '67', '55', '33', '12', '98')\n"
     ]
    }
   ],
   "source": [
    "sequence = input(\"enter a sequence of comma-separated numbers: \").split(',')\n",
    "lst = list(sequence)\n",
    "print(lst)\n",
    "tup = tuple(sequence)\n",
    "print(tup)"
   ]
  },
  {
   "cell_type": "markdown",
   "metadata": {},
   "source": [
    "### 45. Write a program that calculates and prints the value according to the given formula:\n",
    "    Q = Square root of [(2 * C * D) / H], \n",
    "        C is 50. H is 30.\n",
    "        D is the variable whose values should be input to your program in a comma-separated sequence.\n",
    "\n",
    "- Example\n",
    "    - Let us assume the following comma separated input sequence is given to the program:\n",
    "        100,150,180\n",
    "    - The output of the program should be:\n",
    "        18,22,24"
   ]
  },
  {
   "cell_type": "code",
   "execution_count": null,
   "metadata": {},
   "outputs": [
    {
     "name": "stdout",
     "output_type": "stream",
     "text": [
      "18,22,24\n"
     ]
    }
   ],
   "source": [
    "from math import sqrt\n",
    "input_sequence = input(\"enter a sequence of comma-separated numbers: \").split(',')\n",
    "sequence = [int(num) for num in input_sequence]\n",
    "def cal(sequence):\n",
    "    new_lst = []\n",
    "    C = 50\n",
    "    H = 30\n",
    "    for D in sequence:\n",
    "        Q = sqrt((2 * C * D)/H)\n",
    "        new_lst.append(round(Q))\n",
    "    return  new_lst\n",
    "q_val = cal(sequence)\n",
    "print(','.join(map(str,q_val)))"
   ]
  },
  {
   "cell_type": "markdown",
   "metadata": {},
   "source": [
    "### 46. Write a program which takes 2 digits, X,Y as input and generates a 2-dimensional array. The element value in the i-th row and j-th column of the array should be i*j.\n",
    "    Example\n",
    "        Suppose the following inputs are given to the program:\n",
    "        3,5\n",
    "        Then, the output of the program should be:\n",
    "        [[0, 0, 0, 0, 0], [0, 1, 2, 3, 4], [0, 2, 4, 6, 8]] "
   ]
  },
  {
   "cell_type": "code",
   "execution_count": null,
   "metadata": {},
   "outputs": [
    {
     "name": "stdout",
     "output_type": "stream",
     "text": [
      "[[0, 0, 0, 0, 0], [0, 1, 2, 3, 4], [0, 2, 4, 6, 8]]\n"
     ]
    }
   ],
   "source": [
    "row = int(input(\"enter a row: \"))\n",
    "colom = int(input(\"enter a colom: \"))\n",
    "outer_list = []\n",
    "for i in range(row):\n",
    "    inner_lst = []\n",
    "    for j in range(colom):\n",
    "        inner_lst.append(i*j)\n",
    "    outer_list.append(inner_lst)\n",
    "    \n",
    "print(outer_list)"
   ]
  },
  {
   "cell_type": "markdown",
   "metadata": {},
   "source": [
    "### 47. Write a program that accepts a sequence of whitespace separated words as input and prints the words after removing all duplicate words and sorting them . Suppose the following input is supplied to the program:alphanumerically\n",
    "    hello world and practice makes perfect and hello world again\n",
    "    Then, the output should be:\n",
    "    again and hello makes perfect practice world"
   ]
  },
  {
   "cell_type": "code",
   "execution_count": null,
   "metadata": {},
   "outputs": [
    {
     "name": "stdout",
     "output_type": "stream",
     "text": [
      "again and hello makes perfect practice world "
     ]
    }
   ],
   "source": [
    "sequence = input(\"enter a sequenece separated with space: \").split()\n",
    "sequence = sorted(set(sequence))\n",
    "\n",
    "for i in sequence:\n",
    "    print(i,end=\" \")"
   ]
  },
  {
   "cell_type": "markdown",
   "metadata": {},
   "source": [
    "### 48.Write a program which accepts a sequence of comma separated 4 digit binary numbers as its input and then check whether they are divisible by 5 or not. The numbers that are divisible by 5 are to be printed in a comma separated sequence.\n",
    "\n",
    "    Example:\n",
    "    0100,0011,1010,1001\n",
    "    Then the output should be:\n",
    "    1010"
   ]
  },
  {
   "cell_type": "code",
   "execution_count": null,
   "metadata": {},
   "outputs": [
    {
     "name": "stdout",
     "output_type": "stream",
     "text": [
      "1010\n"
     ]
    }
   ],
   "source": [
    "# return is bin or no:\n",
    "def is_div_by_5(binary_str):\n",
    "    dec = int(binary_str,2)\n",
    "    return dec % 5 == 0\n",
    "\n",
    "sequence = input(\"enter a sequence of comma separated 4 digit binary numbers: \").split(',')\n",
    "div_5 = [binary for binary in sequence if is_div_by_5(binary)]\n",
    "print(','.join((div_5)))"
   ]
  },
  {
   "cell_type": "markdown",
   "metadata": {},
   "source": [
    "### 49. Write a program, which will find all such numbers between 1000 and 3000 (both included) such that each digit of the number is an even number. The numbers obtained should be printed in a comma-separated sequence on a single line.\n"
   ]
  },
  {
   "cell_type": "code",
   "execution_count": null,
   "metadata": {},
   "outputs": [
    {
     "name": "stdout",
     "output_type": "stream",
     "text": [
      "2000,2002,2004,2006,2008,2020,2022,2024,2026,2028,2040,2042,2044,2046,2048,2060,2062,2064,2066,2068,2080,2082,2084,2086,2088,2200,2202,2204,2206,2208,2220,2222,2224,2226,2228,2240,2242,2244,2246,2248,2260,2262,2264,2266,2268,2280,2282,2284,2286,2288,2400,2402,2404,2406,2408,2420,2422,2424,2426,2428,2440,2442,2444,2446,2448,2460,2462,2464,2466,2468,2480,2482,2484,2486,2488,2600,2602,2604,2606,2608,2620,2622,2624,2626,2628,2640,2642,2644,2646,2648,2660,2662,2664,2666,2668,2680,2682,2684,2686,2688,2800,2802,2804,2806,2808,2820,2822,2824,2826,2828,2840,2842,2844,2846,2848,2860,2862,2864,2866,2868,2880,2882,2884,2886,2888\n"
     ]
    }
   ],
   "source": [
    "def each_dig_is_even():\n",
    "    lst_result = []\n",
    "    for num in range(1000,3001): #num =  1254\n",
    "        num_str = str(num) # num_str = '1254'\n",
    "        if all(int(digit) % 2 == 0 for digit in num_str):\n",
    "            lst_result.append(num)\n",
    "    return lst_result\n",
    "\n",
    "result = each_dig_is_even()\n",
    "print(','.join(map(str,result)))"
   ]
  },
  {
   "cell_type": "markdown",
   "metadata": {},
   "source": [
    "### 50. Write a program that accepts a sentence and calculate the number of letters and digits. Suppose the following input is supplied to the program:\n",
    "\n",
    "    \"hello world 123\"\n",
    "    Then, the output should be:\n",
    "        LETTERS 10\n",
    "        DIGITS 3"
   ]
  },
  {
   "cell_type": "code",
   "execution_count": null,
   "metadata": {},
   "outputs": [
    {
     "name": "stdout",
     "output_type": "stream",
     "text": [
      "Letters: 10\n",
      "Digits: 3\n"
     ]
    }
   ],
   "source": [
    "sequence = \"hello world 123\"\n",
    "def is_num_or_dig(seq):\n",
    "    Letters = 0\n",
    "    Digits = 0\n",
    "    for char in seq:\n",
    "        if char.isalpha():\n",
    "            Letters += 1\n",
    "        elif char.isdigit():\n",
    "            Digits +=1 \n",
    "    return Letters, Digits\n",
    "\n",
    "let, dig = is_num_or_dig(sequence)\n",
    "print(f\"Letters: {let}\")    \n",
    "print(f\"Digits: {dig}\")    \n"
   ]
  },
  {
   "cell_type": "markdown",
   "metadata": {},
   "source": [
    "### 51. Write a program that accepts a sentence and calculate the number of upper case letters and lower case letters. Suppose the following input is supplied to the program:\n",
    "\n",
    "    Hello World\n",
    "    Then, the output should be:\n",
    "        UPPER CASE 2\n",
    "        LOWER CASE 8"
   ]
  },
  {
   "cell_type": "code",
   "execution_count": null,
   "metadata": {},
   "outputs": [
    {
     "name": "stdout",
     "output_type": "stream",
     "text": [
      "Upper Case: 2\n",
      "Lower Case: 8\n"
     ]
    }
   ],
   "source": [
    "sequence = \"Hello World\"\n",
    "def is_num_or_dig(seq):\n",
    "    Upper = 0\n",
    "    Lower = 0\n",
    "    for char in seq:\n",
    "        if char.isupper():\n",
    "            Upper += 1\n",
    "        elif char.islower():\n",
    "            Lower +=1 \n",
    "    return Upper, Lower\n",
    "\n",
    "upp, low = is_num_or_dig(sequence)\n",
    "print(f\"Upper Case: {upp}\")    \n",
    "print(f\"Lower Case: {low}\")    \n"
   ]
  },
  {
   "cell_type": "markdown",
   "metadata": {},
   "source": [
    "### 52. Use a list comprehension to square each odd number in a list. The list is input by a sequence of comma-separated numbers. Suppose the following input is supplied to the program:\n",
    "    1,2,3,4,5,6,7,8,9\n",
    "    Then, the output should be:\n",
    "    1,3,5,7,9"
   ]
  },
  {
   "cell_type": "code",
   "execution_count": null,
   "metadata": {},
   "outputs": [
    {
     "name": "stdout",
     "output_type": "stream",
     "text": [
      "1,3,5,7,9\n"
     ]
    }
   ],
   "source": [
    "lst_input = 1, 2, 3, 4, 5, 6, 7, 8, 9\n",
    "lst = [num for num in lst_input if num % 2 != 0]\n",
    "print(','.join(map(str, lst)))"
   ]
  },
  {
   "cell_type": "markdown",
   "metadata": {},
   "source": [
    "### 53. You are required to write a program to sort the (name, age, height) tuples by ascending order where name is string, age and height are numbers. The tuples are input by console. The sort criteria is:\n",
    "    1: Sort based on name;\n",
    "    2: Then sort based on age;\n",
    "    3: Then sort by score.\n",
    "    The priority is that name > age > score.\n",
    "\n",
    "    If the following tuples are given as input to the program:\n",
    "        Tom,19,80\n",
    "        John,20,90\n",
    "        Jony,17,91\n",
    "        Jony,17,93\n",
    "        Json,21,85\n",
    "    Then, the output of the program should be:\n",
    "    [('John', '20', '90'), ('Jony', '17', '91'), ('Jony', '17', '93'), ('Json', '21', '85'), ('Tom', '19', '80')]\n"
   ]
  },
  {
   "cell_type": "code",
   "execution_count": null,
   "metadata": {},
   "outputs": [
    {
     "name": "stdout",
     "output_type": "stream",
     "text": [
      "[('john', 20, 90), ('jony', 17, 91), ('jony', 17, 93), ('json', 21, 85), ('tom', 19, 80)]\n"
     ]
    }
   ],
   "source": [
    "def sort_tuples():\n",
    "    lst_tup = []\n",
    "\n",
    "    while True:\n",
    "        # take an input:\n",
    "        tpl = input(\n",
    "            \"Enter the tuples (name, age, height) one by one. Type 'done' to finish: \")\n",
    "\n",
    "        # end if input = done:\n",
    "        if tpl.lower() == 'done':\n",
    "            break\n",
    "        \n",
    "        # split the input base on the given criteria:\n",
    "        try:\n",
    "            name,age,score = tuple((tpl).split(','))\n",
    "            if not name.isalpha():\n",
    "                raise ValueError(\"Name must contain only letters.\")\n",
    "            age = int(age)\n",
    "            score = int(score)\n",
    "            new_tuple = (name,age,score)\n",
    "            lst_tup.append(new_tuple)\n",
    "        \n",
    "        # if there is a valueError,try to input again\n",
    "        except ValueError as inp:\n",
    "            print(f\"Invalid input: {inp}. Please enter the tuple in the correct format (name, age, height).\")\n",
    "\n",
    "\n",
    "    # Sort the list of tuples based on the given criteria:\n",
    "    lst = sorted(lst_tup, key=lambda person: (person[0], person[1], person[2]))\n",
    "\n",
    "    return lst\n",
    "\n",
    "\n",
    "result = sort_tuples()\n",
    "print(result)"
   ]
  },
  {
   "cell_type": "markdown",
   "metadata": {},
   "source": [
    "### 54. Define a function that can accept an integer number as input and print the \"It is an even number\" if the number is even, otherwise print \"It is an odd number\"."
   ]
  },
  {
   "cell_type": "code",
   "execution_count": null,
   "metadata": {},
   "outputs": [
    {
     "name": "stdout",
     "output_type": "stream",
     "text": [
      "Enter correct sentence structure: \n",
      "Enter correct sentence structure: \n",
      "It is an odd number\n"
     ]
    }
   ],
   "source": [
    "def even_odd(num):\n",
    "    if num % 2 == 0:\n",
    "        return \"It is an even number\"\n",
    "    else:\n",
    "        return \"It is an odd number\"\n",
    "\n",
    "while True:\n",
    "    try:\n",
    "        num = int(input(\"enter a number: \"))\n",
    "        print(even_odd(num))\n",
    "        break\n",
    "    except ValueError as VE:\n",
    "        print(\"Enter correct sentence structure: \")"
   ]
  },
  {
   "cell_type": "markdown",
   "metadata": {},
   "source": [
    "### 55.The Fibonacci Sequence is computed based on the following formula:\n",
    "    f(n)=0 if n=0\n",
    "    f(n)=1 if n=1\n",
    "    f(n)=f(n-1)+f(n-2) if n>1\n",
    "\n",
    "- Please write a program using list comprehension to print the Fibonacci Sequence in comma separated form with a given n input by console.\n",
    "\n",
    "- Example:\n",
    "\n",
    "    If the following n is given as input to the program:\n",
    "    7\n",
    "    Then, the output of the program should be:\n",
    "    \n",
    "    0,1,1,2,3,5,8,13"
   ]
  },
  {
   "cell_type": "code",
   "execution_count": null,
   "metadata": {},
   "outputs": [
    {
     "name": "stdout",
     "output_type": "stream",
     "text": [
      "0,1,1,2,3,5,8,13\n"
     ]
    }
   ],
   "source": [
    "\n",
    "\n",
    "n = int(input(\"Enter a number: \"))\n",
    "\n",
    "# # Generate the Fibonacci sequence using list comprehension\n",
    "fib_sequence = [0, 1]\n",
    "[fib_sequence.append(fib_sequence[-2] + fib_sequence[-1]) for _ in range(2, n+1)]\n",
    "\n",
    "# # Print the Fibonacci sequence as a comma-separated string\n",
    "print(','.join(map(str, fib_sequence)))\n",
    "\n"
   ]
  },
  {
   "cell_type": "markdown",
   "metadata": {},
   "source": [
    "### Q56. Define a Python class named 'Person' with attributes 'name' and 'age'."
   ]
  },
  {
   "cell_type": "code",
   "execution_count": null,
   "metadata": {},
   "outputs": [
    {
     "name": "stdout",
     "output_type": "stream",
     "text": [
      "ahmed\n",
      "20\n"
     ]
    }
   ],
   "source": [
    "class person:\n",
    "    name = \"ahmed\"\n",
    "    age = 20\n",
    "    \n",
    "\n",
    "p1 = person()\n",
    "print(p1.name)\n",
    "print(p1.age)"
   ]
  },
  {
   "cell_type": "markdown",
   "metadata": {},
   "source": [
    "### Q57. Add a constructor to the 'Person' class that initializes the 'name' and 'age' attributes."
   ]
  },
  {
   "cell_type": "code",
   "execution_count": null,
   "metadata": {},
   "outputs": [
    {
     "name": "stdout",
     "output_type": "stream",
     "text": [
      "ahmed\n",
      "20\n"
     ]
    }
   ],
   "source": [
    "class person:\n",
    "    def __init__(self, name, age):\n",
    "        self.name = name\n",
    "        self.age = age"
   ]
  },
  {
   "cell_type": "markdown",
   "metadata": {},
   "source": [
    "### Q58. Create an instance method in the 'Person' class that prints the person's information."
   ]
  },
  {
   "cell_type": "code",
   "execution_count": null,
   "metadata": {},
   "outputs": [
    {
     "name": "stdout",
     "output_type": "stream",
     "text": [
      "ahmed\n",
      "20\n"
     ]
    }
   ],
   "source": [
    "class person:\n",
    "    def __init__(self, name, age):\n",
    "        self.name = name\n",
    "        self.age = age\n",
    "\n",
    "    def display(self):\n",
    "        print(self.name)\n",
    "        print(self.age)\n",
    "\n"
   ]
  },
  {
   "cell_type": "markdown",
   "metadata": {},
   "source": [
    "### Q59. Create an object of the 'Person' class and call the instance method to display its information."
   ]
  },
  {
   "cell_type": "code",
   "execution_count": null,
   "metadata": {},
   "outputs": [],
   "source": [
    "class person:\n",
    "    def __init__(self, name, age):\n",
    "        self.name = name\n",
    "        self.age = age\n",
    "\n",
    "    def display(self):\n",
    "        print(self.name)\n",
    "        print(self.age)\n",
    "\n",
    "p3 = person(\"ahmed\",20)\n",
    "p3.display()"
   ]
  },
  {
   "cell_type": "markdown",
   "metadata": {},
   "source": [
    "### Q60. Create a subclass 'Student' that inherits from the 'Person' class, and add a new attribute 'student_id'."
   ]
  },
  {
   "cell_type": "code",
   "execution_count": null,
   "metadata": {},
   "outputs": [
    {
     "name": "stdout",
     "output_type": "stream",
     "text": [
      "ahmed\n",
      "20\n",
      "42022239\n"
     ]
    }
   ],
   "source": [
    "class person:\n",
    "    def __init__(self, name, age):\n",
    "        self.name = name\n",
    "        self.age = age\n",
    "\n",
    "    def display(self):\n",
    "        print(self.name)\n",
    "        print(self.age)\n",
    "\n",
    "class Student(person):\n",
    "    def __init__(self,name,age,id):\n",
    "        super().__init__(name,age)\n",
    "        self.student_id = id\n",
    "\n",
    "s1 = Student(\"ahmed\",20, 42022239)\n",
    "s1.display()"
   ]
  }
 ],
 "metadata": {
  "kernelspec": {
   "display_name": "base",
   "language": "python",
   "name": "python3"
  },
  "language_info": {
   "codemirror_mode": {
    "name": "ipython",
    "version": 3
   },
   "file_extension": ".py",
   "mimetype": "text/x-python",
   "name": "python",
   "nbconvert_exporter": "python",
   "pygments_lexer": "ipython3",
   "version": "3.11.5"
  }
 },
 "nbformat": 4,
 "nbformat_minor": 2
}
