{
 "cells": [
  {
   "cell_type": "markdown",
   "metadata": {},
   "source": [
    "### Q1. Write a program to calculate the area of a rectangle with given length and width.\n",
    "    area = length * width"
   ]
  },
  {
   "cell_type": "code",
   "execution_count": null,
   "metadata": {},
   "outputs": [
    {
     "name": "stdout",
     "output_type": "stream",
     "text": [
      "area of rectangle is 20\n"
     ]
    }
   ],
   "source": [
    "def cal_area():\n",
    "    length = int(input(\"enter the length: \"))\n",
    "    width = int(input(\"enter the width: \"))\n",
    "    area = length * width\n",
    "    return f\"area of rectangle is {area}\"\n",
    "\n",
    "cal_area()"
   ]
  },
  {
   "cell_type": "markdown",
   "metadata": {},
   "source": [
    "### Q2. Write a program that takes an integer input from the user and prints whether it's even or odd.\n",
    "    Even Numbers: 0, 2, 4, 6, 8, ...\n",
    "    OOD Numbers: 1, 3, 5, 7, 9, ..."
   ]
  },
  {
   "cell_type": "code",
   "execution_count": null,
   "metadata": {},
   "outputs": [],
   "source": [
    "def even_odd():\n",
    "    num = int(input(\"enter number: \"))\n",
    "    if num % 2 == 0:\n",
    "        print(\"even\")\n",
    "    else:\n",
    "        print(\"odd\")\n",
    "\n",
    "even_odd()"
   ]
  },
  {
   "cell_type": "markdown",
   "metadata": {},
   "source": [
    "### Q3. Write a program that takes a three-digit number as input and calculates the sum of its digits."
   ]
  },
  {
   "cell_type": "code",
   "execution_count": 7,
   "metadata": {},
   "outputs": [
    {
     "data": {
      "text/plain": [
       "6"
      ]
     },
     "execution_count": 7,
     "metadata": {},
     "output_type": "execute_result"
    }
   ],
   "source": [
    "num1, num2, num3 = input(\"enter three digits: \").split()\n",
    "\n",
    "\n",
    "def cal_sum(num1, num2, num3):\n",
    "    return int(num1)+int(num2)+int(num3)\n",
    "\n",
    "\n",
    "cal_sum(num1, num2, num3)"
   ]
  },
  {
   "cell_type": "code",
   "execution_count": null,
   "metadata": {},
   "outputs": [],
   "source": [
    "num1 = int(input(\"enter num1: \"))\n",
    "num2 = int(input(\"enter num2: \"))\n",
    "num3 = int(input(\"enter num3: \"))\n",
    "\n",
    "\n",
    "def cal_sum(num1, num2, num3):\n",
    "    return num1 + num2 + num3\n",
    "\n",
    "\n",
    "cal_sum(num1, num2, num3)\n"
   ]
  },
  {
   "cell_type": "markdown",
   "metadata": {},
   "source": [
    "### Q4. Create two strings and concatenate them to form a third string."
   ]
  },
  {
   "cell_type": "code",
   "execution_count": null,
   "metadata": {},
   "outputs": [],
   "source": [
    "\n",
    "def concat_str():\n",
    "    string_1 = input(\"enter the string 1: \")\n",
    "    string_2 = input(\"enter the string 2: \")\n",
    "    string_3 = string_1 + string_2\n",
    "    return string_3\n",
    "concat_str()"
   ]
  },
  {
   "cell_type": "markdown",
   "metadata": {},
   "source": [
    "### Q5. Write a program that compares two numbers and prints whether the first number is greater, smaller, or equal to the second number."
   ]
  },
  {
   "cell_type": "code",
   "execution_count": null,
   "metadata": {},
   "outputs": [],
   "source": [
    "def compare():\n",
    "    num1 = int(input(\"enter first num: \"))\n",
    "    num2 = int(input(\"enter second num: \"))\n",
    "    if num1 > num2:\n",
    "        print(\"greater\")\n",
    "    elif num1 < num2:\n",
    "        print(\"smaller\")\n",
    "    else:\n",
    "        print(\"equal\")\n",
    "\n",
    "compare()"
   ]
  },
  {
   "cell_type": "markdown",
   "metadata": {},
   "source": [
    "### Q6. Write a program to print the first five even numbers."
   ]
  },
  {
   "cell_type": "code",
   "execution_count": null,
   "metadata": {},
   "outputs": [],
   "source": [
    "def cal_5even():\n",
    "    nums = input(\"enter the numbers: \").split()\n",
    "    list_nums = [int(num) for num in nums]\n",
    "    count = 0\n",
    "    for num in list_nums:\n",
    "        if count == 5:\n",
    "            break\n",
    "        if num % 2 == 0:\n",
    "            count += 1\n",
    "            print(num)\n",
    "\n",
    "\n",
    "cal_5even()"
   ]
  },
  {
   "cell_type": "markdown",
   "metadata": {},
   "source": [
    "### Q7. Write a program that takes a string as input and prints it in reverse order.\n",
    "    ahmed => demha"
   ]
  },
  {
   "cell_type": "code",
   "execution_count": 8,
   "metadata": {},
   "outputs": [
    {
     "name": "stdout",
     "output_type": "stream",
     "text": [
      "DEMHA\n"
     ]
    }
   ],
   "source": [
    "string = input(\"enter string: \")\n",
    "print(string[::-1])"
   ]
  },
  {
   "cell_type": "markdown",
   "metadata": {},
   "source": [
    "### Q8. Write a program that takes a number as input and prints \"Positive\" if it's greater than 0, \"Negative\" if it's less than 0, and \"Zero\" if it's equal to 0."
   ]
  },
  {
   "cell_type": "code",
   "execution_count": null,
   "metadata": {},
   "outputs": [],
   "source": [
    "def pos_neg():\n",
    "    num = int(input(\"enter a number: \"))\n",
    "    if num > 0:\n",
    "        print(\"Positive\")\n",
    "    elif num < 0:\n",
    "        print(\"Negative\")\n",
    "    else:\n",
    "        print(\"Zero\")\n",
    "pos_neg()"
   ]
  },
  {
   "cell_type": "markdown",
   "metadata": {},
   "source": [
    "### Q9. Write a program that converts Fahrenheit to Celsius. Take Fahrenheit as input from the user.\n",
    "    Temperature in degrees Celsius (°C) = (Temperature in degrees Fahrenheit (°F) - 32) * 5/9"
   ]
  },
  {
   "cell_type": "code",
   "execution_count": null,
   "metadata": {},
   "outputs": [],
   "source": [
    "def fah_to_cel():\n",
    "    try:\n",
    "        fahrenheit = int(input())\n",
    "\n",
    "    except:\n",
    "        fahrenheit = float(input(\"Please enter the number again: \"))\n",
    "\n",
    "    celsius = (fahrenheit - 32) * 5/9\n",
    "    return celsius\n",
    "\n",
    "\n",
    "fah_to_cel()"
   ]
  },
  {
   "cell_type": "markdown",
   "metadata": {},
   "source": [
    "### Q10. Write a program that takes a string as input and counts the number of characters in it.\n",
    "    ahmed => 5"
   ]
  },
  {
   "cell_type": "code",
   "execution_count": null,
   "metadata": {},
   "outputs": [],
   "source": [
    "stirng = input(\"enter string: \")\n",
    "length_str = len(stirng)\n",
    "print(length_str)"
   ]
  },
  {
   "cell_type": "markdown",
   "metadata": {},
   "source": [
    "### Q11. Write a program that takes a number as input and prints whether it's a prime number or not.\n",
    "    2, 3, 5, 7, 11, 13, 17, 19, 23, ..."
   ]
  },
  {
   "cell_type": "code",
   "execution_count": null,
   "metadata": {},
   "outputs": [],
   "source": [
    "def is_prime():\n",
    "    num = int(input(\"enter the num: \"))\n",
    "    if num <= 1:\n",
    "        print(f\"{num} Is Not Prime\")\n",
    "        return\n",
    "    \n",
    "    elif num == 2:\n",
    "        print(f\"{num} Is Prime\")\n",
    "        return\n",
    "    \n",
    "    for i in range(2,num):\n",
    "        if num % i == 0:\n",
    "            print(f\"{num} Is Not Prime\")\n",
    "            break\n",
    "\n",
    "    else:\n",
    "        print(f\"{num} Is Prime\")\n",
    "    \n",
    "is_prime()"
   ]
  },
  {
   "cell_type": "markdown",
   "metadata": {},
   "source": [
    "### Q12. Write a program that takes three numbers as input and prints the maximum of those numbers."
   ]
  },
  {
   "cell_type": "code",
   "execution_count": null,
   "metadata": {},
   "outputs": [],
   "source": [
    "num1 = int(input(\"enter num 1:\"))\n",
    "num2 = int(input(\"enter num 2:\"))\n",
    "num3 = int(input(\"enter num 3:\"))\n",
    "print(max(num1,num2,num3))"
   ]
  },
  {
   "cell_type": "markdown",
   "metadata": {},
   "source": [
    "### Q13. Write a program to print the multiples of 3 up to 30.\n",
    "    3, 6, 9, 12, 15, 18, 21, 24, 27, 30"
   ]
  },
  {
   "cell_type": "code",
   "execution_count": null,
   "metadata": {},
   "outputs": [],
   "source": [
    "for i in range(3,31,3):\n",
    "    print(i)"
   ]
  },
  {
   "cell_type": "markdown",
   "metadata": {},
   "source": [
    "### Q14. Create two lists and concatenate them to form a third list."
   ]
  },
  {
   "cell_type": "code",
   "execution_count": null,
   "metadata": {},
   "outputs": [],
   "source": [
    "l1= [1, 2 ,3, 4,5 ]\n",
    "l2= [6,7 ,8, 9,10 ]\n",
    "l3 = l1+l2\n",
    "l3"
   ]
  },
  {
   "cell_type": "markdown",
   "metadata": {},
   "source": [
    "### Q15. Write a program that takes a number as input and prints its square root."
   ]
  },
  {
   "cell_type": "code",
   "execution_count": null,
   "metadata": {},
   "outputs": [],
   "source": [
    "import math as m\n",
    "num = int(input(\"enter a number: \"))\n",
    "print(m.sqrt(num))\n"
   ]
  },
  {
   "cell_type": "markdown",
   "metadata": {},
   "source": [
    "### Q16. Write a program that takes a string as input and checks whether it's a palindrome.\n",
    "    radar, level, madam, ..."
   ]
  },
  {
   "cell_type": "code",
   "execution_count": null,
   "metadata": {},
   "outputs": [],
   "source": [
    "def palindrome():\n",
    "    string = input(\"enter a string: \")\n",
    "\n",
    "    # cleaning the string:\n",
    "    cleaned_string = ''.join(char.lower() for char in string if char.isalnum())\n",
    "\n",
    "    # reversed the string and put it in another string:\n",
    "    string_2 = cleaned_string[::-1]\n",
    "    \n",
    "    # check if there palindrome:\n",
    "    if cleaned_string == string_2:\n",
    "        print(f\"'{cleaned_string}' have a palindrome '{string_2}'\")\n",
    "    else:\n",
    "        print(f\"'{cleaned_string}' not have a palindrome\")\n",
    "\n",
    "\n",
    "palindrome()"
   ]
  },
  {
   "cell_type": "markdown",
   "metadata": {},
   "source": [
    "### Q17. Write a program that takes three numbers as input and prints their average."
   ]
  },
  {
   "cell_type": "code",
   "execution_count": null,
   "metadata": {},
   "outputs": [],
   "source": [
    "def average():\n",
    "    num1, num2, num3 = input(\"enter three numbers: \").split()\n",
    "\n",
    "    num1 = int(num1)\n",
    "    num2 = int(num2)\n",
    "    num3 = int(num3)\n",
    "    avr = (num1+num2+num3)/3\n",
    "    return avr\n",
    "average()"
   ]
  },
  {
   "cell_type": "markdown",
   "metadata": {},
   "source": [
    "### Q18. Write a program that takes two numbers as input and checks whether the first number is divisible by the second number."
   ]
  },
  {
   "cell_type": "code",
   "execution_count": null,
   "metadata": {},
   "outputs": [],
   "source": [
    "def divisible():\n",
    "    num1 = int(input(\"enter num 1: \"))\n",
    "    num2 = int(input(\"enter num 2: \"))\n",
    "    if num1 % num2 == 0:\n",
    "        print(f\"{num1} is divisible by {num2}\")\n",
    "    else:\n",
    "        print(f\"{num1} is NOT divisible by {num2}\")\n",
    "    \n",
    "divisible()"
   ]
  },
  {
   "cell_type": "markdown",
   "metadata": {},
   "source": [
    "### Q19. Write a program that takes two numbers and an operator (+, -, *, /) as input and performs the corresponding operation."
   ]
  },
  {
   "cell_type": "code",
   "execution_count": null,
   "metadata": {},
   "outputs": [],
   "source": [
    "def cal():\n",
    "    num1 = int(input(\"enter num 1: \"))\n",
    "    num2 = int(input(\"enter num 2: \"))\n",
    "    oper = input(\"Choose the operator(+,-,*,/): \")\n",
    "    if oper == '+':\n",
    "        print(f\"{num1} + {num2} = {num1 + num2}\")\n",
    "    elif oper == '-':\n",
    "        print(f\"{num1} - {num2} = {num1 - num2}\")\n",
    "    elif oper == '*':\n",
    "        print(f\"{num1} * {num2} = {num1 * num2}\")\n",
    "    elif oper == '/':\n",
    "        print(f\"{num1} / {num2} = {num1 / num2}\")\n",
    "\n",
    "cal()"
   ]
  },
  {
   "cell_type": "markdown",
   "metadata": {},
   "source": [
    "### Q20. Write a program that takes three numbers as input and prints the minimum of those numbers."
   ]
  },
  {
   "cell_type": "code",
   "execution_count": null,
   "metadata": {},
   "outputs": [],
   "source": [
    "num1 = int(input(\"enter num 1:\"))\n",
    "num2 = int(input(\"enter num 2:\"))\n",
    "num3 = int(input(\"enter num 3:\"))\n",
    "print(min(num1,num2,num3))"
   ]
  },
  {
   "cell_type": "markdown",
   "metadata": {},
   "source": [
    "### Q21. Write a program that takes a string as input and prints its length."
   ]
  },
  {
   "cell_type": "code",
   "execution_count": null,
   "metadata": {},
   "outputs": [],
   "source": [
    "string = input(\"enter a string\")\n",
    "print(len(string))"
   ]
  },
  {
   "cell_type": "markdown",
   "metadata": {},
   "source": [
    "### Q22. Write a program to print the first five odd numbers."
   ]
  },
  {
   "cell_type": "code",
   "execution_count": null,
   "metadata": {},
   "outputs": [],
   "source": [
    "def cal_5even():\n",
    "    nums = input(\"enter the numbers: \").split()\n",
    "    list_nums = [int(num) for num in nums]\n",
    "    count = 0\n",
    "    for num in list_nums:\n",
    "        if count == 5:\n",
    "            break\n",
    "        if num % 2 != 0:\n",
    "            count += 1\n",
    "            print(num)\n",
    "\n",
    "\n",
    "cal_5even()"
   ]
  },
  {
   "cell_type": "markdown",
   "metadata": {},
   "source": [
    "### Q23. Create a list of numbers and write a program to find the sum of all elements in the list."
   ]
  },
  {
   "cell_type": "code",
   "execution_count": null,
   "metadata": {},
   "outputs": [],
   "source": [
    "def sum_list():\n",
    "    l = [1, 2, 3, 4, 5, 6, 7, 8, 9]\n",
    "    sum = 0\n",
    "    for i in l:\n",
    "        sum += i\n",
    "    return sum\n",
    "\n",
    "sum_list()"
   ]
  },
  {
   "cell_type": "markdown",
   "metadata": {},
   "source": [
    "### Q24. Write a program that takes a year as input and prints whether it's a leap year.\n",
    "    Every year that is exactly divisible by four is a leap year, except for years that are exactly divisible by 100, but these centurial years are leap years if they are exactly divisible by 400. For example, the years 1700, 1800, and 1900 are not leap years, but the years 1600 and 2000 are."
   ]
  },
  {
   "cell_type": "code",
   "execution_count": null,
   "metadata": {},
   "outputs": [],
   "source": [
    "def leap():\n",
    "    year = int(input(\"enter a year:\"))\n",
    "    if (year % 100 ==  0 and year % 400 == 0) or (year % 4 == 0 and year % 100 != 0):\n",
    "        print(f\"{year} is a leap year\")\n",
    "    else:\n",
    "        print(f\"{year} is a NOT leap year\") \n",
    "\n",
    "\n",
    "leap()  "
   ]
  },
  {
   "cell_type": "markdown",
   "metadata": {},
   "source": [
    "### Q25. Write a program that takes a string as input and prints it in both uppercase and lowercase."
   ]
  },
  {
   "cell_type": "code",
   "execution_count": null,
   "metadata": {},
   "outputs": [],
   "source": [
    "string = input(\"enter a string: \")\n",
    "print(string.upper())\n",
    "print(string.lower())"
   ]
  },
  {
   "cell_type": "markdown",
   "metadata": {},
   "source": [
    "### Q26. Create a list of five elements and remove the third element."
   ]
  },
  {
   "cell_type": "code",
   "execution_count": null,
   "metadata": {},
   "outputs": [],
   "source": [
    "l = [1,2,3,4,5]\n",
    "# del l[2]\n",
    "l.pop(2)"
   ]
  },
  {
   "cell_type": "markdown",
   "metadata": {},
   "source": [
    "### Q27. Write a program that takes an integer as input and prints whether it's a power of 2."
   ]
  },
  {
   "cell_type": "code",
   "execution_count": null,
   "metadata": {},
   "outputs": [],
   "source": [
    "def is_power2():\n",
    "    num = int(input(\"enter a num:\"))\n",
    "    if (num > 0) and (num & num-1) == 0:\n",
    "        print(f\"{num} is a power of 2.\")\n",
    "    else:\n",
    "        print(f\"{num} is NOT a power of 2.\")\n",
    "\n",
    "\n",
    "is_power2()\n"
   ]
  },
  {
   "cell_type": "markdown",
   "metadata": {},
   "source": [
    "### Q28. Write a program that takes a character as input and checks whether it's a consonant.\n",
    "    There are 21 consonants in the English alphabet: B, C, D, F, G, H, J, K, L, M, N, P, Q, R, S, T, V, W, X, Y, Z"
   ]
  },
  {
   "cell_type": "code",
   "execution_count": null,
   "metadata": {},
   "outputs": [],
   "source": [
    "char = input(\"enter a char: \")\n",
    "if char.upper() not in ['A', 'E','I','O', 'U']:\n",
    "    print(f\"{char} is a consonant\")\n",
    "else:\n",
    "    print(f\"{char} is NOT consonant\")\n"
   ]
  },
  {
   "cell_type": "markdown",
   "metadata": {},
   "source": [
    "### Q29. Create a list of numbers and write a program to sort it in ascending order."
   ]
  },
  {
   "cell_type": "code",
   "execution_count": null,
   "metadata": {},
   "outputs": [],
   "source": [
    "l = [4, 2, 5, 7, 18, 9, 6, 1]\n",
    "l.sort(reverse=False)\n",
    "print(l)"
   ]
  },
  {
   "cell_type": "markdown",
   "metadata": {},
   "source": [
    "### Q30. Write a program to print the multiplication table of a given number."
   ]
  },
  {
   "cell_type": "code",
   "execution_count": null,
   "metadata": {},
   "outputs": [],
   "source": [
    "def multiplication_table():\n",
    "    while True:\n",
    "        try:\n",
    "            num = int(input(\"enter a number: \"))\n",
    "            for i in range(1, 11):\n",
    "                print(f\"{num} * {i} = {num*i}\")\n",
    "            return\n",
    "        except ValueError:\n",
    "            print(\"Invalid input. Please enter an integer.\")\n",
    "\n",
    "\n",
    "multiplication_table()"
   ]
  }
 ],
 "metadata": {
  "kernelspec": {
   "display_name": "Python 3",
   "language": "python",
   "name": "python3"
  },
  "language_info": {
   "codemirror_mode": {
    "name": "ipython",
    "version": 3
   },
   "file_extension": ".py",
   "mimetype": "text/x-python",
   "name": "python",
   "nbconvert_exporter": "python",
   "pygments_lexer": "ipython3",
   "version": "3.12.0"
  }
 },
 "nbformat": 4,
 "nbformat_minor": 2
}
